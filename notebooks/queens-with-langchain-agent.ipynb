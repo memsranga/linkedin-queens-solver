{
 "cells": [
  {
   "cell_type": "code",
   "execution_count": null,
   "id": "b33243c1-a2bb-4bfd-bd78-76452283d4a6",
   "metadata": {},
   "outputs": [],
   "source": [
    "from langchain_openai import AzureChatOpenAI\n",
    "from langchain.prompts import ChatPromptTemplate, PromptTemplate\n",
    "from langchain_core.messages import SystemMessage\n",
    "from dotenv import find_dotenv, load_dotenv\n",
    "from langchain_core.tools import tool\n",
    "from langchain_experimental.utilities import PythonREPL\n",
    "from langchain_experimental.tools import PythonREPLTool\n",
    "from langchain.agents import AgentExecutor, create_react_agent, create_tool_calling_agent\n",
    "\n"
   ]
  },
  {
   "cell_type": "code",
   "execution_count": null,
   "id": "bda8c5a5-da7c-4a8f-8955-6717a8186f0d",
   "metadata": {},
   "outputs": [],
   "source": [
    "load_dotenv(find_dotenv())"
   ]
  },
  {
   "cell_type": "code",
   "execution_count": null,
   "id": "f35c6924-c41e-4ecb-b0f6-1845898bcfbd",
   "metadata": {},
   "outputs": [],
   "source": [
    "llm = AzureChatOpenAI(model=\"gpt-4o\",\n",
    "                  temperature = 1,\n",
    "                  api_version=\"2023-03-15-preview\",\n",
    "                  verbose=True)"
   ]
  },
  {
   "cell_type": "code",
   "execution_count": null,
   "id": "82976b61-cdea-49f4-ad48-930c5aff0af8",
   "metadata": {},
   "outputs": [],
   "source": [
    "llm.invoke(\"Hi\")"
   ]
  },
  {
   "cell_type": "code",
   "execution_count": null,
   "id": "dc461924-5144-47dd-97a9-fdfb26469fa3",
   "metadata": {},
   "outputs": [],
   "source": [
    "template = \"\"\"\n",
    "You are puzzle solver. Given a {grid_size}x{grid_size} grid, use PuLP to solve the puzzle.\n",
    "You should solve the puzzle for the constraints:\n",
    "1. Each row sum should be 1\n",
    "2. Each column sum should be 1\n",
    "3. Each number region sum should be 1\n",
    "4. Parwise sum of all adjacent cells, row wise, column wise and diagonally should be <= 1\n",
    "\n",
    "Form these constraints using PuLP and solve them for Binary category since all variables can be either 0 or 1.\n",
    "Dont give any explanation, execute the code and give me the final answer as 2d array.\n",
    "Grid:\n",
    "{grid}\n",
    "\"\"\""
   ]
  },
  {
   "cell_type": "code",
   "execution_count": null,
   "id": "76148825-6125-4e1e-809a-c78bcbfd3ad1",
   "metadata": {},
   "outputs": [],
   "source": [
    "prompt_template = ChatPromptTemplate.from_template(template)"
   ]
  },
  {
   "cell_type": "code",
   "execution_count": null,
   "id": "1280134c-440c-4666-89a0-94ffb606831e",
   "metadata": {},
   "outputs": [],
   "source": [
    "prompt = PromptTemplate.from_template(\"\"\"Answer the following questions as best you can. You have access to the following tools:\n",
    "\n",
    "{tools}\n",
    "\n",
    "Use the following format:\n",
    "\n",
    "Question: the input question you must answer\n",
    "Thought: you should always think about what to do\n",
    "Action: the action to take, should be one of [{tool_names}]\n",
    "Action Input: the input to the action\n",
    "Observation: the result of the action\n",
    "... (this Thought/Action/Action Input/Observation can repeat N times)\n",
    "Thought: I now know the final answer\n",
    "Final Answer: the final answer to the original input question\n",
    "\n",
    "Begin!\n",
    "\n",
    "Question: {input}\n",
    "Thought:{agent_scratchpad}\")\"\"\")"
   ]
  },
  {
   "cell_type": "code",
   "execution_count": null,
   "id": "2b4c2cee-9bdc-4131-95a9-d248af678805",
   "metadata": {},
   "outputs": [],
   "source": [
    "message = prompt_template.invoke({\"grid_size\": 7, \"grid\": \n",
    "\"\"\"[\n",
    "['1', '1', '1', '2', '2', '2', '3', '3'],\n",
    "['1', '4', '1', '4', '2', '3', '3', '3'],\n",
    "['1', '4', '4', '4', '2', '5', '5', '5'],\n",
    "['1', '4', '4', '4', '2', '6', '6', '6'],\n",
    "['1', '1', '4', '2', '2', '6', '4', '6'],\n",
    "['1', '1', '4', '4', '4', '4', '4', '6'],\n",
    "['1', '7', '4', '4', '4', '4', '4', '6'],\n",
    "['7', '7', '4', '8', '8', '8', '4', '6']\n",
    "]\"\"\"})"
   ]
  },
  {
   "cell_type": "code",
   "execution_count": null,
   "id": "dfceba89-4f00-4e9f-b1c4-464b79fe6d36",
   "metadata": {},
   "outputs": [],
   "source": [
    "llm.invoke(message)"
   ]
  },
  {
   "cell_type": "code",
   "execution_count": null,
   "id": "3891524c-7fc9-49b4-b413-ec0354dc70ff",
   "metadata": {},
   "outputs": [],
   "source": []
  },
  {
   "cell_type": "code",
   "execution_count": null,
   "id": "aa2dc697-d11d-4561-a3cf-1dccb6a35638",
   "metadata": {},
   "outputs": [],
   "source": []
  },
  {
   "cell_type": "code",
   "execution_count": null,
   "id": "3ba083b4-0984-4766-b81b-c7ce24b91927",
   "metadata": {},
   "outputs": [],
   "source": [
    "@tool\n",
    "def execute_python_tool(code):\n",
    "    \"\"\"\n",
    "    A Python shell. Use this to execute python commands. Input should be a valid python command. If you want to see the output of a value, you should print it out with `print(...)`.\n",
    "    \"\"\"\n",
    "    python_repl = PythonREPLTool()\n",
    "    return python_repl.invoke(code)"
   ]
  },
  {
   "cell_type": "code",
   "execution_count": null,
   "id": "f42d93ab-020a-4002-a55b-e39d47612cea",
   "metadata": {},
   "outputs": [],
   "source": [
    "tools = [execute_python_tool]"
   ]
  },
  {
   "cell_type": "code",
   "execution_count": null,
   "id": "c27051b6-9c24-43cc-ba70-653f915397e9",
   "metadata": {},
   "outputs": [],
   "source": [
    "llm_with_tools = llm.bind_tools(tools)"
   ]
  },
  {
   "cell_type": "code",
   "execution_count": null,
   "id": "2460ca9e-e277-4582-bc47-1fc8948e7276",
   "metadata": {},
   "outputs": [],
   "source": [
    "llm_with_tools.invoke(message)"
   ]
  },
  {
   "cell_type": "code",
   "execution_count": null,
   "id": "de0c65c4-9085-4e3d-8c02-b1b7f1a69c47",
   "metadata": {},
   "outputs": [],
   "source": []
  },
  {
   "cell_type": "code",
   "execution_count": null,
   "id": "7019db72-6840-43da-a981-3e917f8e61ea",
   "metadata": {},
   "outputs": [],
   "source": [
    "agent = create_react_agent(llm, tools, prompt)"
   ]
  },
  {
   "cell_type": "code",
   "execution_count": null,
   "id": "4aea8698-00a8-4d5a-b2fb-cbcb1053b721",
   "metadata": {},
   "outputs": [],
   "source": [
    "agent_executor = AgentExecutor(agent=agent, tools=tools, verbose=True)"
   ]
  },
  {
   "cell_type": "code",
   "execution_count": null,
   "id": "eecb92fe-e8ab-48e4-8b01-739410be55e9",
   "metadata": {},
   "outputs": [],
   "source": [
    "message"
   ]
  },
  {
   "cell_type": "code",
   "execution_count": null,
   "id": "a72cd301-6e5d-4992-b6e2-120c22b2f9ac",
   "metadata": {},
   "outputs": [],
   "source": [
    "agent_executor.invoke({\"input\": message})"
   ]
  },
  {
   "cell_type": "code",
   "execution_count": null,
   "id": "2e47e093-979b-4cb1-a410-c564911ca284",
   "metadata": {},
   "outputs": [],
   "source": []
  },
  {
   "cell_type": "code",
   "execution_count": null,
   "id": "9aab36e2-d465-49c3-a027-a10a30763dc5",
   "metadata": {},
   "outputs": [],
   "source": [
    "prompt = ChatPromptTemplate.from_messages(\n",
    "    [\n",
    "        (\n",
    "            \"system\",\n",
    "            \"\"\"\n",
    "You are puzzle solver. Given a {grid_size}x{grid_size} grid, use PuLP to solve the puzzle.\n",
    "You should solve the puzzle for the constraints:\n",
    "1. Each row sum should be 1\n",
    "2. Each column sum should be 1\n",
    "3. Each number region sum should be 1\n",
    "4. Parwise sum of all adjacent cells, row wise, column wise and diagonally should be <= 1\n",
    "\n",
    "Form these constraints using PuLP and solve them for Binary category since all variables can be either 0 or 1.\n",
    "Dont give any explanation, execute the code and give me the final answer as 2d array.\n",
    "Grid:\n",
    "{grid}\n",
    "\"\"\"\n",
    "        ),\n",
    "        (\"placeholder\", \"{chat_history}\"),\n",
    "        (\"human\", \"{input}\"),\n",
    "        (\"placeholder\", \"{agent_scratchpad}\"),\n",
    "    ]\n",
    ")"
   ]
  },
  {
   "cell_type": "code",
   "execution_count": null,
   "id": "0ae7343f-ec48-4ae2-9f4c-18be18fce7b7",
   "metadata": {},
   "outputs": [],
   "source": [
    "agent = create_tool_calling_agent(llm, tools, prompt)"
   ]
  },
  {
   "cell_type": "code",
   "execution_count": null,
   "id": "726649c0-74e2-428e-b5af-856758ee97f3",
   "metadata": {},
   "outputs": [],
   "source": [
    "prompt_template"
   ]
  },
  {
   "cell_type": "code",
   "execution_count": null,
   "id": "613e37e0-0462-4624-a731-9dc28e0616d0",
   "metadata": {},
   "outputs": [],
   "source": []
  }
 ],
 "metadata": {
  "kernelspec": {
   "display_name": "flexin",
   "language": "python",
   "name": "flexin"
  },
  "language_info": {
   "codemirror_mode": {
    "name": "ipython",
    "version": 3
   },
   "file_extension": ".py",
   "mimetype": "text/x-python",
   "name": "python",
   "nbconvert_exporter": "python",
   "pygments_lexer": "ipython3",
   "version": "3.9.6"
  }
 },
 "nbformat": 4,
 "nbformat_minor": 5
}
